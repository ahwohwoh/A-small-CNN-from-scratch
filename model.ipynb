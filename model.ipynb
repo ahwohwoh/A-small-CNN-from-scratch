{
 "cells": [
  {
   "cell_type": "markdown",
   "metadata": {},
   "source": [
    "# Introduction\n",
    "\n",
    "\n",
    "This is an assignment from cs5234, we will be coding the building blocks for the convolutional neural network and putting them together to train a CNN on the MNIST dataset.\n",
    "\n",
    "**Attention: Only python3 will be allowed to use in this assignment. And we use `numpy` to store and caculate data and parameters. You do not need a GPU to for this assignment. CPU is enough. To run this Jupyter notebook, you need to install the depedent libraries in [requiremets.txt](requirements.txt) via pip (or pip3). Note: keras version should be >=2.1.2. Please do not run this whole file before you implement all the codes. Otherwise it will occur some error.**\n",
    "\n",
    "For each layer we will implement a forward and a backward function. The forward function will receive inputs and will return the outputs of this layer(loss layer will be a little different), like this:\n",
    "\n",
    "```python\n",
    "def forward(self, inputs):\n",
    "  \"\"\" Receive inputs and return output\"\"\"\n",
    "  # Do some computations ...\n",
    "  z = # ... some intermediate value\n",
    "  # Do some more computations ...\n",
    "  outputs = # the outputs\n",
    "    \n",
    "  return outputs\n",
    "```\n",
    "\n",
    "The backward pass will receive upstream derivatives and inputs, and will return gradients with respect to the inputs. Gradients for weights or bias will be stored in parameters in this layer , like this:\n",
    "\n",
    "```python\n",
    "def backward(self, in_grads, inputs):\n",
    "  \"\"\"\n",
    "  Receive derivative of loss with respect to outputs,\n",
    "  and compute derivative with respect to inputs.\n",
    "  \"\"\"\n",
    "  # Use values in cache to compute derivatives\n",
    "  out_grads = # Derivative of loss with respect to inputs\n",
    "  self.w_grad = # Derivative of loss with respect to self.weights\n",
    "  self.b_grad = # Derivative of loss with respect to self.bias\n",
    "    \n",
    "  return out_grads\n",
    "```\n",
    "\n",
    "After implementing a bunch of layers this way, we will be able to easily combine them to build classifiers with different architectures.\n",
    "\n",
    "This iPython notebook serves to:\n",
    "\n",
    "- explain the questions\n",
    "- explain the function APIs and implementation examples (like `ReLU`) \n",
    "- provide helper functions to piece functions together and check your code"
   ]
  },
  {
   "cell_type": "markdown",
   "metadata": {},
   "source": [
    "# ReLU layer\n",
    "A convolution layer is usually followed by a non-linear activation function. We will provide the functions `forward` and `backward` of class `ReLU` in `layers.py` as an implementation example. Read through the function code and make sure you understand the derivation. Besides, we will explain the implementation of `ReLU` after `Convolution` using formula. You need to write down other layers' formulations in your reports.\n",
    "\n",
    "## Forward Formulation\n",
    "Given input $x \\in R^{B \\times C \\times H \\times W}$ ($B$:batch size, $C$: number of channel, $H$: input height, $W$: input width),  output $y \\in R^{B \\times C \\times H \\times W}$ will be caculated like this:\n",
    "\n",
    "\\begin{equation*}\n",
    "y=indicator(x) \\times x\n",
    "\\end{equation*}\n",
    "\n",
    "Here, $indicator(x)$ return the same size of input $x$, comparing $x$ with 0 element-wisely. If $x_{i,j,k,l} \\geq 0$ return $z_{i,j,k,l}=1$. And the multiplication is also element-wise. If the input $x$ has only 2 dimensions, i.e. the batch dimension and the feature dimension, e.g. after the FC layer, the subscripts $j,k,l$ in the formula are merged into one $j$.\n",
    "\n",
    "## Backward Formulation\n",
    "Given input $x \\in R^{B \\times C \\times H \\times W}$ ($B$:batch size, $C$: number of channel, $H$: input height, $W$: input width) and gradients to output of this layer $dy \\in R^{B \\times C \\times H \\times W}$, gradients to input $dx$ will be caculated like this:\n",
    "\n",
    "\\begin{equation*}\n",
    "dx=indicator(x) \\times dy\n",
    "\\end{equation*}"
   ]
  },
  {
   "cell_type": "markdown",
   "metadata": {},
   "source": [
    "# Covolution Layer\n",
    "In the file `layers.py`, the class `Convolution` will be initialized with `conv_params`, `initializer` and `name`, shown as below:\n",
    "\n",
    "```python\n",
    "\n",
    "def __init__(self, conv_params, initializer=Guassian(), name='conv'):\n",
    "        super(Convolution, self).__init__(name=name)\n",
    "        self.trainable = True\n",
    "        self.kernel_h = conv_params['kernel_h'] # height of kernel\n",
    "        self.kernel_w = conv_params['kernel_w'] # width of kernel\n",
    "        self.pad = conv_params['pad']\n",
    "        self.stride = conv_params['stride']\n",
    "        self.in_channel = conv_params['in_channel']\n",
    "        self.out_channel = conv_params['out_channel']\n",
    "\n",
    "        self.weights = initializer.initialize((self.out_channel, self.in_channel, self.kernel_h, self.kernel_w))\n",
    "        self.bias = np.zeros((self.out_channel))\n",
    "\n",
    "        self.w_grad = np.zeros(self.weights.shape)\n",
    "        self.b_grad = np.zeros(self.bias.shape)\n",
    "```\n",
    "\n",
    "`conv_params` is a dictionary, containing these parameters:\n",
    "\n",
    "- 'kernel_h': The height of kernel.\n",
    "- 'kernel_w': The width of kernel.\n",
    "- 'stride': The number of pixels between adjacent receptive fields in the horizontal and vertical directions.\n",
    "- 'pad': The number of pixels padded to the bottom, top, left and right of each feature map. **Here, `pad=2` means a 2-pixel border of padded with zeros. So the total number of zeros for horizontal (or vertical) direction is 2\\*pad=4**.\n",
    "- 'in_channel': The number of input channels.\n",
    "- 'out_channel': The number of output channels.\n",
    "\n",
    "`initializer` is an instance of Initializer class (leave it out right now)"
   ]
  },
  {
   "cell_type": "markdown",
   "metadata": {},
   "source": [
    "## Forward\n",
    "In the file `layers.py`, implement the forward pass for a convolutional layer in the function `forward` of class `Convolution`.\n",
    "\n",
    "The input consists of N data points, each with C channels, height H and width W. We convolve each input with K different kernels, where each filter spans all C channels and has height HH and width WW.\n",
    "\n",
    "Input:\n",
    "\n",
    "- inputs: Input data of shape (N, C, H, W)\n",
    "\n",
    "**WARNING:** Please implement the matrix product method of convolution as shown in Lecture notes. The naive version of implementing a sliding window will be too slow when you try to train the whole CNN in later sections.\n",
    "\n",
    "You can test your implementation by restarting jupyter notebook kernel and running the following:"
   ]
  },
  {
   "cell_type": "code",
   "execution_count": 2,
   "metadata": {},
   "outputs": [
    {
     "name": "stderr",
     "output_type": "stream",
     "text": [
      "Using TensorFlow backend.\n",
      "/Users/xingru.chen/anaconda3/lib/python3.6/importlib/_bootstrap.py:219: RuntimeWarning: compiletime version 3.5 of module 'tensorflow.python.framework.fast_tensor_util' does not match runtime version 3.6\n",
      "  return f(*args, **kwds)\n"
     ]
    },
    {
     "name": "stdout",
     "output_type": "stream",
     "text": [
      "Relative error (<1e-6 will be fine):  3.35129832456e-07\n"
     ]
    }
   ],
   "source": [
    "import numpy as np\n",
    "from layers import Convolution\n",
    "from utils.tools import rel_error\n",
    "\n",
    "import keras\n",
    "from keras import layers\n",
    "from keras import models\n",
    "from keras import optimizers\n",
    "from keras import backend as K\n",
    "\n",
    "import warnings\n",
    "warnings.filterwarnings('ignore')\n",
    "\n",
    "inputs = np.random.uniform(size=(10, 3, 30, 30))\n",
    "params = { 'kernel_h': 5,\n",
    "          'kernel_w': 5,\n",
    "          'pad': 0,\n",
    "          'stride': 2,\n",
    "          'in_channel': inputs.shape[1],\n",
    "          'out_channel': 64,\n",
    "}\n",
    "layer = Convolution(params)\n",
    "out = layer.forward(inputs)\n",
    "\n",
    "keras_model = keras.Sequential()\n",
    "keras_layer = layers.Conv2D(filters=params['out_channel'],\n",
    "                            kernel_size=(params['kernel_h'], params['kernel_w']),\n",
    "                            strides=(params['stride'], params['stride']),\n",
    "                            padding='valid',\n",
    "                            data_format='channels_first',\n",
    "                            input_shape=inputs.shape[1:])\n",
    "keras_model.add(keras_layer)\n",
    "sgd = optimizers.SGD(lr=0.01)\n",
    "keras_model.compile(loss='mean_squared_error', optimizer='sgd')\n",
    "weights = np.transpose(layer.weights, (2, 3, 1, 0))\n",
    "keras_layer.set_weights([weights, layer.bias])\n",
    "keras_out = keras_model.predict(inputs, batch_size=inputs.shape[0])\n",
    "print('Relative error (<1e-6 will be fine): ', rel_error(out, keras_out))"
   ]
  },
  {
   "cell_type": "markdown",
   "metadata": {},
   "source": [
    "## Backward\n",
    "Implement the backward pass for the convolution operation in the function `backward` of `Convolution` class in the file `layers.py`. \n",
    "\n",
    "When you are done, restart jupyter notebook and run the following to check your backward pass with a numeric gradient check. \n",
    "\n",
    "In gradient checking, to get an approximate gradient for a parameter, we vary that parameter by a small amount (while keeping rest of parameters constant) and note the difference in the network loss. Dividing the difference in network loss by the amount we varied the parameter gives us an approximation for the gradient. We repeat this process for all the other parameters to obtain our numerical gradient. Note that gradient checking is a slow process (2 forward propagations per parameter) and should only be used to check your backpropagation!\n",
    "\n",
    "More links on gradient checking:\n",
    "\n",
    "http://ufldl.stanford.edu/tutorial/supervised/DebuggingGradientChecking/\n",
    "\n",
    "https://www.coursera.org/learn/machine-learning/lecture/Y3s6r/gradient-checking"
   ]
  },
  {
   "cell_type": "code",
   "execution_count": 1,
   "metadata": {},
   "outputs": [
    {
     "name": "stdout",
     "output_type": "stream",
     "text": [
      "<1e-8 will be fine\n",
      "Gradients to inputs: 1.96314172666e-11\n",
      "Gradients to weights:  5.7386035436e-13\n",
      "Gradients to bias:  4.99671981874e-13\n"
     ]
    }
   ],
   "source": [
    "from layers import Convolution\n",
    "import numpy as np\n",
    "from utils.check_grads import check_grads_layer\n",
    "\n",
    "batch = 10\n",
    "conv_params={\n",
    "    'kernel_h': 3,\n",
    "    'kernel_w': 3,\n",
    "    'pad': 0,\n",
    "    'stride': 2,\n",
    "    'in_channel': 3,\n",
    "    'out_channel': 10\n",
    "}\n",
    "in_height = 10\n",
    "in_width = 20\n",
    "out_height = 1+(in_height+2*conv_params['pad']-conv_params['kernel_h'])//conv_params['stride']\n",
    "out_width = 1+(in_width+2*conv_params['pad']-conv_params['kernel_w'])//conv_params['stride']\n",
    "inputs = np.random.uniform(size=(batch, conv_params['in_channel'], in_height, in_width))\n",
    "in_grads = np.random.uniform(size=(batch, conv_params['out_channel'], out_height, out_width))\n",
    "conv = Convolution(conv_params)\n",
    "check_grads_layer(conv, inputs, in_grads)"
   ]
  },
  {
   "cell_type": "markdown",
   "metadata": {},
   "source": [
    "# Dropout Layer\n",
    "Dropout [1] is a technique for regularizing neural networks by randomly setting some features to zero during the forward pass. In this exercise you will implement a dropout layer and modify your fully-connected network to optionally use dropout.\n",
    "\n",
    "[1] Geoffrey E. Hinton et al, \"Improving neural networks by preventing co-adaptation of feature detectors\", arXiv 2012\n",
    "\n",
    "In the file `layers.py`, the class `FCLayer` will be initialized with `ratio`, `seed` and `name`, shown as below:\n",
    "```python\n",
    "def __init__(self, ratio, name='dropout', seed=None):\n",
    "        super(Dropout, self).__init__(name=name)\n",
    "        self.ratio = ratio\n",
    "        self.mask = None\n",
    "        self.seed = seed\n",
    "```\n",
    "\n",
    "- `ratio`: The probability of setting a neuron to zero\n",
    "- `seed`: Random seed to sample from inputs, so as to get mask. (default as None)"
   ]
  },
  {
   "cell_type": "markdown",
   "metadata": {},
   "source": [
    "## Forward\n",
    "In the file `layers.py`, implement the forward pass for dropout. Since dropout behaves differently during training and testing, make sure to implement the operation for both modes.  `p` refers to the probability of setting a neuron to zero. We will follow the Caffe convention where we multiply the outputs by `1/(1-p)` during training. "
   ]
  },
  {
   "cell_type": "markdown",
   "metadata": {},
   "source": [
    "## Backward\n",
    "In the file `layers.py`, implement the backward pass for dropout. After doing so, restart jupyter notebook and run the following cell to numerically gradient-check your implementation."
   ]
  },
  {
   "cell_type": "code",
   "execution_count": 2,
   "metadata": {},
   "outputs": [
    {
     "name": "stdout",
     "output_type": "stream",
     "text": [
      "<1e-8 will be fine\n",
      "Gradients to inputs: 3.50640683482e-12\n"
     ]
    }
   ],
   "source": [
    "from layers import Dropout\n",
    "import numpy as np\n",
    "from utils.check_grads import check_grads_layer\n",
    "batch =1\n",
    "ratio = 0.1\n",
    "height = 10\n",
    "width = 20\n",
    "channel = 10\n",
    "np.random.seed(1234)\n",
    "inputs = np.random.uniform(size=(batch, channel, height, width))\n",
    "in_grads = np.random.uniform(size=(batch, channel, height, width))\n",
    "dropout = Dropout(ratio, seed=1234)\n",
    "dropout.set_mode(True)\n",
    "check_grads_layer(dropout, inputs, in_grads)"
   ]
  },
  {
   "cell_type": "markdown",
   "metadata": {},
   "source": [
    "# Pooling Layer\n",
    "In the file `layers.py`, the class `Pooling` will be initialized with `pool_params`, and `name`, shown as below:\n",
    "```python\n",
    "def __init__(self, pool_params, name='pooling'):\n",
    "        super(Pooling, self).__init__(name=name)\n",
    "        self.pool_type = pool_params['pool_type']\n",
    "        self.pool_height = pool_params['pool_height']\n",
    "        self.pool_width = pool_params['pool_width']\n",
    "        self.stride = pool_params['stride']\n",
    "        self.pad = pool_params['pad']\n",
    "```\n",
    "\n",
    "`pool_params` is a dictionary, containing these parameters:\n",
    "\n",
    "- 'pool_type': The type of pooling, 'max' or 'avg'\n",
    "- 'pool_h': The height of pooling kernel.\n",
    "- 'pool_w': The width of pooling kernel.\n",
    "- 'stride': The number of pixels between adjacent receptive fields in the horizontal and vertical directions.\n",
    "- 'pad': The number of pixels that will be used to zero-pad the input in each x-y direction. **Here, `pad=2` means a 2-pixel border of padding with zeros**."
   ]
  },
  {
   "cell_type": "markdown",
   "metadata": {},
   "source": [
    "## Forward\n",
    "Implement the forward pass for the pooling operation in the function `forward` of class `Pooling` in the file `layers.py`.\n",
    "\n",
    "You can test your implementation by restarting jupyter notebook kernel and running the following:"
   ]
  },
  {
   "cell_type": "code",
   "execution_count": 2,
   "metadata": {},
   "outputs": [
    {
     "name": "stderr",
     "output_type": "stream",
     "text": [
      "Using TensorFlow backend.\n",
      "/Users/xingru.chen/anaconda3/lib/python3.6/importlib/_bootstrap.py:219: RuntimeWarning: compiletime version 3.5 of module 'tensorflow.python.framework.fast_tensor_util' does not match runtime version 3.6\n",
      "  return f(*args, **kwds)\n"
     ]
    },
    {
     "name": "stdout",
     "output_type": "stream",
     "text": [
      "Relative error (<1e-6 will be fine):  5.15262481235e-09\n"
     ]
    }
   ],
   "source": [
    "import numpy as np\n",
    "from layers import Pooling\n",
    "from utils.tools import rel_error\n",
    "\n",
    "import keras\n",
    "from keras import layers\n",
    "from keras import models\n",
    "from keras import optimizers\n",
    "from keras import backend as K\n",
    "\n",
    "import warnings\n",
    "warnings.filterwarnings('ignore')\n",
    "\n",
    "inputs = np.random.uniform(size=(1, 3, 5, 5))\n",
    "params = { 'pool_type': 'max',\n",
    "           'pool_height': 2,\n",
    "           'pool_width': 2,\n",
    "           'pad': 0,\n",
    "           'stride': 2,\n",
    "}\n",
    "layer = Pooling(params)\n",
    "out = layer.forward(inputs)\n",
    "\n",
    "keras_model = keras.Sequential()\n",
    "keras_layer = layers.MaxPooling2D(pool_size=(params['pool_height'], params['pool_width']),\n",
    "                                 strides=params['stride'],\n",
    "                                 padding='valid',\n",
    "                                 data_format='channels_first',\n",
    "                                 input_shape=inputs.shape[1:])\n",
    "keras_model.add(keras_layer)\n",
    "sgd = optimizers.SGD(lr=0.01)\n",
    "keras_model.compile(loss='mean_squared_error', optimizer='sgd')\n",
    "keras_out = keras_model.predict(inputs, batch_size=inputs.shape[0])\n",
    "print('Relative error (<1e-6 will be fine): ', rel_error(out, keras_out))"
   ]
  },
  {
   "cell_type": "markdown",
   "metadata": {},
   "source": [
    "## Backward\n",
    "Implement the backward pass for the max-pooling operation in the function `backward` of class `Pooling` in the file `layers.py`.\n",
    "\n",
    "Please make sure you have implemented both ’max’ and ’avg’ pooing in your codes. And then test the gradients by yourself."
   ]
  },
  {
   "cell_type": "code",
   "execution_count": 1,
   "metadata": {},
   "outputs": [
    {
     "name": "stdout",
     "output_type": "stream",
     "text": [
      "<1e-8 will be fine\n",
      "Gradients to inputs: 4.45245353183e-12\n"
     ]
    }
   ],
   "source": [
    "from layers import Pooling\n",
    "import numpy as np\n",
    "from utils.check_grads import check_grads_layer\n",
    "\n",
    "batch = 10\n",
    "params = { 'pool_type': 'max',\n",
    "           'pool_height': 2,\n",
    "           'pool_width': 2,\n",
    "           'pad': 0,\n",
    "           'stride': 2,\n",
    "}\n",
    "in_height = 10\n",
    "in_width = 20\n",
    "channels = 3\n",
    "out_height = 1+(in_height+2*params['pad']-params['pool_height'])//params['stride']\n",
    "out_width = 1+(in_width+2*params['pad']-params['pool_width'])//params['stride']\n",
    "inputs = np.random.uniform(size=(batch, channels, in_height, in_width))\n",
    "in_grads = np.random.uniform(size=(batch, channels, out_height, out_width))\n",
    "pool = Pooling(params)\n",
    "check_grads_layer(pool, inputs, in_grads)"
   ]
  },
  {
   "cell_type": "markdown",
   "metadata": {},
   "source": [
    "# FC Layer\n",
    "\n",
    "FC layer (short for fully connected layer) is also called linear layer or dense layer.\n",
    "\n",
    "In the file `layers.py`, the class `FCLayer` will be initialized with `in_features`, `out_features`, and `name`, shown as below:\n",
    "```python\n",
    "def __init__(self, in_features, out_features, name='fclayer', initializer=Guassian()):\n",
    "        super(FCLayer, self).__init__(name=name)\n",
    "        self.trainable = True\n",
    "        self.weights = initializer.initialize((in_features, out_features))\n",
    "        self.bias = initializer.initialize(out_features)\n",
    "\n",
    "        self.w_grad = np.zeros(self.weights.shape)\n",
    "        self.b_grad = np.zeros(self.bias.shape)\n",
    "```\n",
    "\n",
    "- `in_features`: The number of inputs features\n",
    "- `out_features`: The numbet of required outputs features"
   ]
  },
  {
   "cell_type": "markdown",
   "metadata": {},
   "source": [
    "## Forward\n",
    "Implement the forward pass for the pooling operation in the function `forward` of class `FCLayer` in the file `layers.py`.\n",
    "\n",
    "You can test your implementation by restarting jupyter notebook kernel and running the following:"
   ]
  },
  {
   "cell_type": "code",
   "execution_count": null,
   "metadata": {
    "collapsed": true
   },
   "outputs": [],
   "source": [
    "import numpy as np\n",
    "from layers import FCLayer\n",
    "from utils.tools import rel_error\n",
    "\n",
    "import keras\n",
    "from keras import layers\n",
    "from keras import models\n",
    "from keras import optimizers\n",
    "from keras import backend as K\n",
    "\n",
    "import warnings\n",
    "warnings.filterwarnings('ignore')\n",
    "\n",
    "inputs = np.random.uniform(size=(10, 20))\n",
    "\n",
    "layer = FCLayer(in_features=inputs.shape[1], out_features=100)\n",
    "out = layer.forward(inputs)\n",
    "\n",
    "keras_model = keras.Sequential()\n",
    "keras_layer = layers.Dense(100, input_shape=inputs.shape[1:], use_bias=True, kernel_initializer='random_normal', bias_initializer='zeros')\n",
    "# print (len(keras_layer.get_weights()))\n",
    "keras_model.add(keras_layer)\n",
    "sgd = optimizers.SGD(lr=0.01)\n",
    "keras_model.compile(loss='mean_squared_error', optimizer='sgd')\n",
    "keras_layer.set_weights([layer.weights, layer.bias])\n",
    "keras_out = keras_model.predict(inputs, batch_size=inputs.shape[0])\n",
    "print('Relative error (<1e-6 will be fine): ', rel_error(out, keras_out))"
   ]
  },
  {
   "cell_type": "markdown",
   "metadata": {},
   "source": [
    "## Backward\n",
    "Implement the backward pass for the max-pooling operation in the function `backward` of class `FCLayer` in the file `layers.py`. Please test the gradients by yourself."
   ]
  },
  {
   "cell_type": "code",
   "execution_count": 1,
   "metadata": {},
   "outputs": [
    {
     "name": "stdout",
     "output_type": "stream",
     "text": [
      "<1e-8 will be fine\n",
      "Gradients to inputs: 9.55526517355e-12\n",
      "Gradients to weights:  1.13949016681e-12\n",
      "Gradients to bias:  8.74691037772e-13\n"
     ]
    }
   ],
   "source": [
    "from layers import FCLayer\n",
    "import numpy as np\n",
    "from utils.check_grads import check_grads_layer\n",
    "batch =2\n",
    "in_features=10\n",
    "out_features=20\n",
    "inputs = np.random.uniform(size=(batch, in_features))\n",
    "in_grads = np.random.uniform(size=(batch, out_features))\n",
    "fclayer = FCLayer(in_features, out_features)\n",
    "fclayer.set_mode(True)\n",
    "check_grads_layer(fclayer, inputs, in_grads)"
   ]
  },
  {
   "cell_type": "markdown",
   "metadata": {},
   "source": [
    "# SoftmaxCrossEntropy Loss\n",
    "We write Softmax and CrossEntropy together because it can avoid some numeric overflow problem.In the file `loss.py`, the class `SoftmaxCrossEntropy` will be initialized with `num_class`,  shown as below:\n",
    "```python\n",
    "def __init__(self, num_class):\n",
    "        super(SoftmaxCrossEntropy, self).__init__()\n",
    "        self.num_class = num_class\n",
    "```\n",
    "\n",
    "`num_class`: The number of category"
   ]
  },
  {
   "cell_type": "markdown",
   "metadata": {},
   "source": [
    "## Forward\n",
    "Implement the forward pass for the pooling operation in the function `forward` of class `FCLayer` in the file `layers.py`.\n",
    "\n",
    "You can test your implementation by restarting jupyter notebook kernel and running the following:"
   ]
  },
  {
   "cell_type": "code",
   "execution_count": 7,
   "metadata": {},
   "outputs": [
    {
     "name": "stdout",
     "output_type": "stream",
     "text": [
      "Relative error (<1e-6 will be fine):  6.84072426308e-17\n"
     ]
    }
   ],
   "source": [
    "import numpy as np\n",
    "from loss import SoftmaxCrossEntropy\n",
    "from utils.tools import rel_error\n",
    "\n",
    "import keras\n",
    "from keras import layers\n",
    "from keras import models\n",
    "from keras import optimizers\n",
    "from keras import backend as K\n",
    "\n",
    "import warnings\n",
    "warnings.filterwarnings('ignore')\n",
    "\n",
    "batch = 30\n",
    "num_class = 5\n",
    "inputs = np.random.uniform(size=(batch, num_class))\n",
    "targets = np.random.randint(num_class, size=batch)\n",
    "\n",
    "loss = SoftmaxCrossEntropy(num_class)\n",
    "out, _ = loss.forward(inputs, targets)\n",
    "\n",
    "keras_inputs = K.softmax(inputs)\n",
    "keras_targets = np.zeros(inputs.shape, dtype='int')\n",
    "for i in range(batch):\n",
    "        keras_targets[i, targets[i]] = 1\n",
    "keras_out = K.mean(K.categorical_crossentropy(keras_targets, keras_inputs, from_logits=False))\n",
    "print('Relative error (<1e-6 will be fine): ', rel_error(out, K.eval(keras_out)))"
   ]
  },
  {
   "cell_type": "markdown",
   "metadata": {},
   "source": [
    "## Backward\n",
    "In the file `loss.py`, implement the backward pass for `SodtmaxCrossEntropy`. Please test the gradients by yourself."
   ]
  },
  {
   "cell_type": "code",
   "execution_count": 8,
   "metadata": {},
   "outputs": [],
   "source": [
    "from loss import SoftmaxCrossEntropy\n",
    "import numpy as np\n",
    "from utils.check_grads import check_grads_layer\n",
    "batch = 30\n",
    "num_class = 5\n",
    "inputs = np.random.uniform(size=(batch, num_class))\n",
    "targets = np.random.randint(num_class, size=batch)\n",
    "\n",
    "loss = SoftmaxCrossEntropy(num_class)\n",
    "out, _ = loss.forward(inputs, targets)\n",
    "\n",
    "keras_inputs = K.softmax(inputs)\n",
    "keras_targets = np.zeros(inputs.shape, dtype='int')\n",
    "for i in range(batch):\n",
    "        keras_targets[i, targets[i]] = 1\n",
    "keras_out = K.mean(K.categorical_crossentropy(keras_targets, keras_inputs, from_logits=False))"
   ]
  },
  {
   "cell_type": "markdown",
   "metadata": {},
   "source": [
    "# Optimizer\n",
    "In the file `optimizers.py`, there are 4 types of optimizer (`SGD`, `Adam`, `RMSprop` and `Adagrad`). You only need to implement the `update` function of `SGD`(mini-batch SGD with momentum) and `Adam`. These two types of optimizers are initialized like this:\n",
    "\n",
    "```python\n",
    "class SGD(Optimizer):\n",
    "    def __init__(self, lr=0.01, momentum=0, decay=0, sheduler_func = None):\n",
    "        super(SGD, self).__init__(lr)\n",
    "        self.momentum = momentum\n",
    "        self.moments = None\n",
    "        self.decay = decay\n",
    "        self.sheduler_func = sheduler_func\n",
    "        \n",
    "class Adam(Optimizer):\n",
    "    def __init__(self, lr=0.001, beta_1=0.9, beta_2=0.999, epsilon=None, decay=0, sheduler_func=None):\n",
    "        super(Adam, self).__init__(lr)\n",
    "        self.beta_1 = beta_1\n",
    "        self.beta_2 = beta_2\n",
    "        self.epsilon = epsilon\n",
    "        self.decay = decay\n",
    "        if not self.epsilon:\n",
    "            self.epsilon = 1e-8\n",
    "        self.moments = None\n",
    "        self.accumulators = None\n",
    "        self.sheduler_func = sheduler_func\n",
    "```\n",
    "\n",
    "For Both optimizers:\n",
    "- `lr`: The initial learning rate.\n",
    "- `decay`: The learning rate decay ratio\n",
    "- `sheduler_func`: Function to change learning rate with respect to iterations\n",
    "\n",
    "For `SGD`:\n",
    "- `momentum`: The ratio of moments\n",
    "\n",
    "\n",
    "For `Adam`:\n",
    "More details can be seen in reference.\n",
    "\n",
    "**For you reference:**\n",
    "http://cs231n.github.io/neural-networks-3/#update"
   ]
  },
  {
   "cell_type": "markdown",
   "metadata": {},
   "source": [
    "# Train the net on full MNIST data\n",
    "By training the `MNISTNet` for one epoch, you should achieve about 90% on the validation and test set. You may have to wait about 5 minutes for training to be completed."
   ]
  },
  {
   "cell_type": "code",
   "execution_count": 10,
   "metadata": {},
   "outputs": [
    {
     "name": "stdout",
     "output_type": "stream",
     "text": [
      "Number of training images:  48000\n",
      "Number of validation images:  12000\n",
      "Number of testing images:  10000\n",
      "\n",
      "Four examples of training images:\n"
     ]
    },
    {
     "data": {
      "text/plain": [
       "<matplotlib.image.AxesImage at 0x183a93b128>"
      ]
     },
     "execution_count": 10,
     "metadata": {},
     "output_type": "execute_result"
    },
    {
     "data": {
      "image/png": "[encoded data removed]",
      "text/plain": [
       "<matplotlib.figure.Figure at 0x1814c96f28>"
      ]
     },
     "metadata": {},
     "output_type": "display_data"
    }
   ],
   "source": [
    "%matplotlib inline\n",
    "import matplotlib.pyplot as plt\n",
    "from applications import MNISTNet\n",
    "from loss import SoftmaxCrossEntropy, L2\n",
    "from optimizers import Adam\n",
    "from utils.datsets import MNIST\n",
    "import numpy as np\n",
    "\n",
    "mnist = MNIST()\n",
    "mnist.load()\n",
    "idx = np.random.randint(mnist.num_train, size=4)\n",
    "print('\\nFour examples of training images:')\n",
    "img = mnist.x_train[idx][:,0,:,:]\n",
    "\n",
    "plt.figure(1, figsize=(18, 18))\n",
    "plt.subplot(1, 4, 1)\n",
    "plt.imshow(img[0])\n",
    "plt.subplot(1, 4, 2)\n",
    "plt.imshow(img[1])\n",
    "plt.subplot(1, 4, 3)\n",
    "plt.imshow(img[2])\n",
    "plt.subplot(1, 4, 4)\n",
    "plt.imshow(img[3])"
   ]
  },
  {
   "cell_type": "code",
   "execution_count": null,
   "metadata": {},
   "outputs": [
    {
     "name": "stdout",
     "output_type": "stream",
     "text": [
      "Epoch 0: \n",
      "Test accuracy=0.07920, loss=2.30259\n",
      "Validation accuracy: 0.07667, loss: 2.30259\n",
      "Iteration 0:\taccuracy=0.10000, loss=2.30259, regularization loss= 0.00524651744059\n",
      "Validation accuracy: 0.09142, loss: 3.21637\n",
      "Iteration 100:\taccuracy=0.03333, loss=3.48888, regularization loss= 0.0775273446993\n",
      "Validation accuracy: 0.09950, loss: nan\n",
      "Iteration 200:\taccuracy=0.06667, loss=nan, regularization loss= nan\n",
      "Test accuracy=0.09800, loss=nan\n",
      "Validation accuracy: 0.09950, loss: nan\n",
      "Iteration 300:\taccuracy=0.23333, loss=nan, regularization loss= nan\n"
     ]
    }
   ],
   "source": [
    "model = MNISTNet()\n",
    "loss = SoftmaxCrossEntropy(num_class=10)\n",
    "\n",
    "# define your learning rate sheduler\n",
    "def func(lr, iteration):\n",
    "    if iteration % 1000 ==0:\n",
    "        return lr*0.5\n",
    "    else:\n",
    "        return lr\n",
    "\n",
    "adam = Adam(lr=0.001, decay=0,  sheduler_func = func)\n",
    "l2 = L2(w=0.001) # L2 regularization with lambda=0.001\n",
    "model.compile(optimizer=adam, loss=loss, regularization=l2)\n",
    "train_results, val_results, test_results = model.train(\n",
    "    mnist, \n",
    "    train_batch=30, val_batch=1000, test_batch=1000, \n",
    "    epochs=2, \n",
    "    val_intervals=100, test_intervals=300, print_intervals=100)"
   ]
  },
  {
   "cell_type": "code",
   "execution_count": null,
   "metadata": {
    "collapsed": true
   },
   "outputs": [],
   "source": [
    "plt.figure(2, figsize=(18, 8))\n",
    "plt.subplot(2, 3, 1)\n",
    "plt.title('Training loss')\n",
    "plt.plot(train_results[:,0], train_results[:,1])\n",
    "plt.subplot(2, 3, 4)\n",
    "plt.title('Training accuracy')\n",
    "plt.plot(train_results[:,0], train_results[:,2])\n",
    "plt.subplot(2, 3, 2)\n",
    "plt.title('Validation loss')\n",
    "plt.plot(val_results[:,0], val_results[:,1])\n",
    "plt.subplot(2, 3, 5)\n",
    "plt.title('Validation accuracy')\n",
    "plt.plot(val_results[:,0], val_results[:,2])\n",
    "plt.subplot(2, 3, 3)\n",
    "plt.title('Testing loss')\n",
    "plt.plot(test_results[:,0], test_results[:, 1])\n",
    "plt.subplot(2, 3, 6)\n",
    "plt.title('Testing accuracy')\n",
    "plt.plot(test_results[:, 0], test_results[:,2])"
   ]
  },
  {
   "cell_type": "markdown",
   "metadata": {},
   "source": [
    "## Change of learning rate\n",
    "If we change the initial learning rate from 0.001 to 0.1, the training process becomes unstable and the loss is out of control. Thus, you need to be careful when setting the initial learning rate."
   ]
  },
  {
   "cell_type": "code",
   "execution_count": null,
   "metadata": {
    "collapsed": true
   },
   "outputs": [],
   "source": [
    "model = MNISTNet()\n",
    "loss = SoftmaxCrossEntropy(num_class=10)\n",
    "\n",
    "# define your learning rate sheduler\n",
    "def func(lr, iteration):\n",
    "    if iteration % 1000 ==0:\n",
    "        return lr*0.5\n",
    "    else:\n",
    "        return lr\n",
    "\n",
    "adam = Adam(lr=0.01, decay=0,  sheduler_func = func)\n",
    "l2 = L2(w=0.001) # L2 regularization with lambda=0.001\n",
    "model.compile(optimizer=adam, loss=loss, regularization=l2)\n",
    "train_results, val_results, test_results = model.train(\n",
    "    mnist, \n",
    "    train_batch=30, val_batch=1000, test_batch=1000, \n",
    "    epochs=2, \n",
    "    val_intervals=100, test_intervals=300, print_intervals=100)"
   ]
  },
  {
   "cell_type": "code",
   "execution_count": null,
   "metadata": {
    "collapsed": true
   },
   "outputs": [],
   "source": [
    "plt.figure(2, figsize=(18, 8))\n",
    "plt.subplot(2, 3, 1)\n",
    "plt.title('Training loss')\n",
    "plt.plot(train_results[:,0], train_results[:,1])\n",
    "plt.subplot(2, 3, 4)\n",
    "plt.title('Training accuracy')\n",
    "plt.plot(train_results[:,0], train_results[:,2])\n",
    "plt.subplot(2, 3, 2)\n",
    "plt.title('Validation loss')\n",
    "plt.plot(val_results[:,0], val_results[:,1])\n",
    "plt.subplot(2, 3, 5)\n",
    "plt.title('Validation accuracy')\n",
    "plt.plot(val_results[:,0], val_results[:,2])\n",
    "plt.subplot(2, 3, 3)\n",
    "plt.title('Testing loss')\n",
    "plt.plot(test_results[:,0], test_results[:, 1])\n",
    "plt.subplot(2, 3, 6)\n",
    "plt.title('Testing accuracy')\n",
    "plt.plot(test_results[:, 0], test_results[:,2])"
   ]
  },
  {
   "cell_type": "markdown",
   "metadata": {},
   "source": [
    "# Train your best MNISTNet!\n",
    "Tweak the hyperparameters of the above MNISTNet and use what you've learnt to train the best net.\n",
    "\n",
    "Credits will be given based on your test accuracy, your explanations/insights of the training. The network is small, hence the training should finish quickly using your CPU (less than 1 hour). \n",
    "\n",
    "Please report the following:\n",
    "- Training validation and testing loss as well as accuracy over iterations\n",
    "- Architecture and training method (eg. optimization scheme, data augmentation): explain your design choices, what has failed and what has worked and why you think they worked/failed\n",
    "- Try different hyper-parameters, e.g. rate decaying, weight decay, number of layers and total number of epochs. \n",
    "\n",
    "Do NOT use external libraries like Tensorflow, keras and Pytorch in your implementation, i.e. optimizer.py, layer.py and loss.py. Do NOT copy the code from the internet, e.g. github. You should also give credits to any material that you refer to for your implementation."
   ]
  },
  {
   "cell_type": "code",
   "execution_count": null,
   "metadata": {
    "collapsed": true
   },
   "outputs": [],
   "source": []
  }
 ],
 "metadata": {
  "kernelspec": {
   "display_name": "Python 3",
   "language": "python",
   "name": "python3"
  },
  "language_info": {
   "codemirror_mode": {
    "name": "ipython",
    "version": 3
   },
   "file_extension": ".py",
   "mimetype": "text/x-python",
   "name": "python",
   "nbconvert_exporter": "python",
   "pygments_lexer": "ipython3",
   "version": "3.6.3"
  },
  "latex_envs": {
   "LaTeX_envs_menu_present": true,
   "autocomplete": true,
   "bibliofile": "biblio.bib",
   "cite_by": "apalike",
   "current_citInitial": 1,
   "eqLabelWithNumbers": true,
   "eqNumInitial": 1,
   "hotkeys": {
    "equation": "Ctrl-E",
    "itemize": "Ctrl-I"
   },
   "labels_anchors": false,
   "latex_user_defs": false,
   "report_style_numbering": false,
   "user_envs_cfg": false
  }
 },
 "nbformat": 4,
 "nbformat_minor": 1
}
